{
  "nbformat": 4,
  "nbformat_minor": 0,
  "metadata": {
    "colab": {
      "provenance": []
    },
    "kernelspec": {
      "name": "python3",
      "display_name": "Python 3"
    },
    "language_info": {
      "name": "python"
    }
  },
  "cells": [
    {
      "cell_type": "code",
      "metadata": {
        "colab": {
          "base_uri": "https://localhost:8080/",
          "height": 38
        },
        "id": "ba040bec",
        "outputId": "413978ed-85aa-4d36-d4be-73b7646dab25"
      },
      "source": [
        "from google.colab import files\n",
        "\n",
        "uploaded = files.upload()\n",
        "\n",
        "for fn in uploaded.keys():\n",
        "  print('User uploaded file \"{name}\" with length {length} bytes'.format(\n",
        "      name=fn, length=len(uploaded[fn])))"
      ],
      "execution_count": null,
      "outputs": [
        {
          "output_type": "display_data",
          "data": {
            "text/plain": [
              "<IPython.core.display.HTML object>"
            ],
            "text/html": [
              "\n",
              "     <input type=\"file\" id=\"files-a540d31b-a521-49f1-a428-b93013d45da2\" name=\"files[]\" multiple disabled\n",
              "        style=\"border:none\" />\n",
              "     <output id=\"result-a540d31b-a521-49f1-a428-b93013d45da2\">\n",
              "      Upload widget is only available when the cell has been executed in the\n",
              "      current browser session. Please rerun this cell to enable.\n",
              "      </output>\n",
              "      <script>// Copyright 2017 Google LLC\n",
              "//\n",
              "// Licensed under the Apache License, Version 2.0 (the \"License\");\n",
              "// you may not use this file except in compliance with the License.\n",
              "// You may obtain a copy of the License at\n",
              "//\n",
              "//      http://www.apache.org/licenses/LICENSE-2.0\n",
              "//\n",
              "// Unless required by applicable law or agreed to in writing, software\n",
              "// distributed under the License is distributed on an \"AS IS\" BASIS,\n",
              "// WITHOUT WARRANTIES OR CONDITIONS OF ANY KIND, either express or implied.\n",
              "// See the License for the specific language governing permissions and\n",
              "// limitations under the License.\n",
              "\n",
              "/**\n",
              " * @fileoverview Helpers for google.colab Python module.\n",
              " */\n",
              "(function(scope) {\n",
              "function span(text, styleAttributes = {}) {\n",
              "  const element = document.createElement('span');\n",
              "  element.textContent = text;\n",
              "  for (const key of Object.keys(styleAttributes)) {\n",
              "    element.style[key] = styleAttributes[key];\n",
              "  }\n",
              "  return element;\n",
              "}\n",
              "\n",
              "// Max number of bytes which will be uploaded at a time.\n",
              "const MAX_PAYLOAD_SIZE = 100 * 1024;\n",
              "\n",
              "function _uploadFiles(inputId, outputId) {\n",
              "  const steps = uploadFilesStep(inputId, outputId);\n",
              "  const outputElement = document.getElementById(outputId);\n",
              "  // Cache steps on the outputElement to make it available for the next call\n",
              "  // to uploadFilesContinue from Python.\n",
              "  outputElement.steps = steps;\n",
              "\n",
              "  return _uploadFilesContinue(outputId);\n",
              "}\n",
              "\n",
              "// This is roughly an async generator (not supported in the browser yet),\n",
              "// where there are multiple asynchronous steps and the Python side is going\n",
              "// to poll for completion of each step.\n",
              "// This uses a Promise to block the python side on completion of each step,\n",
              "// then passes the result of the previous step as the input to the next step.\n",
              "function _uploadFilesContinue(outputId) {\n",
              "  const outputElement = document.getElementById(outputId);\n",
              "  const steps = outputElement.steps;\n",
              "\n",
              "  const next = steps.next(outputElement.lastPromiseValue);\n",
              "  return Promise.resolve(next.value.promise).then((value) => {\n",
              "    // Cache the last promise value to make it available to the next\n",
              "    // step of the generator.\n",
              "    outputElement.lastPromiseValue = value;\n",
              "    return next.value.response;\n",
              "  });\n",
              "}\n",
              "\n",
              "/**\n",
              " * Generator function which is called between each async step of the upload\n",
              " * process.\n",
              " * @param {string} inputId Element ID of the input file picker element.\n",
              " * @param {string} outputId Element ID of the output display.\n",
              " * @return {!Iterable<!Object>} Iterable of next steps.\n",
              " */\n",
              "function* uploadFilesStep(inputId, outputId) {\n",
              "  const inputElement = document.getElementById(inputId);\n",
              "  inputElement.disabled = false;\n",
              "\n",
              "  const outputElement = document.getElementById(outputId);\n",
              "  outputElement.innerHTML = '';\n",
              "\n",
              "  const pickedPromise = new Promise((resolve) => {\n",
              "    inputElement.addEventListener('change', (e) => {\n",
              "      resolve(e.target.files);\n",
              "    });\n",
              "  });\n",
              "\n",
              "  const cancel = document.createElement('button');\n",
              "  inputElement.parentElement.appendChild(cancel);\n",
              "  cancel.textContent = 'Cancel upload';\n",
              "  const cancelPromise = new Promise((resolve) => {\n",
              "    cancel.onclick = () => {\n",
              "      resolve(null);\n",
              "    };\n",
              "  });\n",
              "\n",
              "  // Wait for the user to pick the files.\n",
              "  const files = yield {\n",
              "    promise: Promise.race([pickedPromise, cancelPromise]),\n",
              "    response: {\n",
              "      action: 'starting',\n",
              "    }\n",
              "  };\n",
              "\n",
              "  cancel.remove();\n",
              "\n",
              "  // Disable the input element since further picks are not allowed.\n",
              "  inputElement.disabled = true;\n",
              "\n",
              "  if (!files) {\n",
              "    return {\n",
              "      response: {\n",
              "        action: 'complete',\n",
              "      }\n",
              "    };\n",
              "  }\n",
              "\n",
              "  for (const file of files) {\n",
              "    const li = document.createElement('li');\n",
              "    li.append(span(file.name, {fontWeight: 'bold'}));\n",
              "    li.append(span(\n",
              "        `(${file.type || 'n/a'}) - ${file.size} bytes, ` +\n",
              "        `last modified: ${\n",
              "            file.lastModifiedDate ? file.lastModifiedDate.toLocaleDateString() :\n",
              "                                    'n/a'} - `));\n",
              "    const percent = span('0% done');\n",
              "    li.appendChild(percent);\n",
              "\n",
              "    outputElement.appendChild(li);\n",
              "\n",
              "    const fileDataPromise = new Promise((resolve) => {\n",
              "      const reader = new FileReader();\n",
              "      reader.onload = (e) => {\n",
              "        resolve(e.target.result);\n",
              "      };\n",
              "      reader.readAsArrayBuffer(file);\n",
              "    });\n",
              "    // Wait for the data to be ready.\n",
              "    let fileData = yield {\n",
              "      promise: fileDataPromise,\n",
              "      response: {\n",
              "        action: 'continue',\n",
              "      }\n",
              "    };\n",
              "\n",
              "    // Use a chunked sending to avoid message size limits. See b/62115660.\n",
              "    let position = 0;\n",
              "    do {\n",
              "      const length = Math.min(fileData.byteLength - position, MAX_PAYLOAD_SIZE);\n",
              "      const chunk = new Uint8Array(fileData, position, length);\n",
              "      position += length;\n",
              "\n",
              "      const base64 = btoa(String.fromCharCode.apply(null, chunk));\n",
              "      yield {\n",
              "        response: {\n",
              "          action: 'append',\n",
              "          file: file.name,\n",
              "          data: base64,\n",
              "        },\n",
              "      };\n",
              "\n",
              "      let percentDone = fileData.byteLength === 0 ?\n",
              "          100 :\n",
              "          Math.round((position / fileData.byteLength) * 100);\n",
              "      percent.textContent = `${percentDone}% done`;\n",
              "\n",
              "    } while (position < fileData.byteLength);\n",
              "  }\n",
              "\n",
              "  // All done.\n",
              "  yield {\n",
              "    response: {\n",
              "      action: 'complete',\n",
              "    }\n",
              "  };\n",
              "}\n",
              "\n",
              "scope.google = scope.google || {};\n",
              "scope.google.colab = scope.google.colab || {};\n",
              "scope.google.colab._files = {\n",
              "  _uploadFiles,\n",
              "  _uploadFilesContinue,\n",
              "};\n",
              "})(self);\n",
              "</script> "
            ]
          },
          "metadata": {}
        }
      ]
    },
    {
      "cell_type": "code",
      "source": [
        "#Load the dataset\n",
        "import pandas as pd\n",
        "\n",
        "# Load your original dataset\n",
        "df = pd.read_csv('/content/dataset.csv')  # Adjust the path if needed\n",
        "\n",
        "# Combine 'LastUpdatedDate' and 'LastUpdatedTime' into a single datetime column\n",
        "df[\"Timestamp\"] = pd.to_datetime(df[\"LastUpdatedDate\"] + \" \" + df[\"LastUpdatedTime\"],\n",
        "                                 format=\"%d-%m-%Y %H:%M:%S\")\n",
        "\n",
        "# Rename for clarity: assume 'SystemCodeNumber' is a unique lot ID\n",
        "df.rename(columns={\"SystemCodeNumber\": \"LotID\"}, inplace=True)\n",
        "\n",
        "# Select only relevant columns for Model 1\n",
        "df_stream = df[[\"LotID\", \"Timestamp\", \"Occupancy\", \"Capacity\"]].copy()\n",
        "\n",
        "# Sort by timestamp for proper streaming\n",
        "df_stream = df_stream.sort_values(\"Timestamp\").reset_index(drop=True)\n",
        "\n",
        "# Save to CSV for Pathway to use\n",
        "df_stream.to_csv(\"parking_stream_model1.csv\", index=False)\n",
        "\n",
        "# Quick check\n",
        "df_stream.head()\n"
      ],
      "metadata": {
        "id": "jU8XQWdemKGk"
      },
      "execution_count": null,
      "outputs": []
    },
    {
      "cell_type": "code",
      "source": [
        "#Model 1: Baseline Linear Model\n",
        "!pip install pathway bokeh panel --quiet\n"
      ],
      "metadata": {
        "id": "Lz6flNLQmw-M"
      },
      "execution_count": null,
      "outputs": []
    },
    {
      "cell_type": "code",
      "source": [
        "import pandas as pd\n",
        "import numpy as np\n",
        "import pathway as pw\n",
        "import panel as pn\n",
        "import bokeh.plotting\n",
        "\n",
        "# Enable Panel extension\n",
        "pn.extension()\n"
      ],
      "metadata": {
        "id": "WAJXzQOanIq3"
      },
      "execution_count": null,
      "outputs": []
    },
    {
      "cell_type": "code",
      "source": [
        "#3 Save Preprocessed Data to CSV\n",
        "# Save to a streaming-friendly format\n",
        "df[[\"LotID\", \"Timestamp\", \"Occupancy\", \"Capacity\"]].to_csv(\"parking_stream_model1.csv\", index=False)\n"
      ],
      "metadata": {
        "id": "CgxOB7v4nPJ8"
      },
      "execution_count": null,
      "outputs": []
    },
    {
      "cell_type": "code",
      "source": [
        "#4. Define Schema & Ingest Data\n",
        "# Define the schema of incoming data\n",
        "class ParkingSchema(pw.Schema):\n",
        "    LotID: str\n",
        "    Timestamp: str\n",
        "    Occupancy: int\n",
        "    Capacity: int\n",
        "\n",
        "# Ingest stream\n",
        "data = pw.demo.replay_csv(\"parking_stream_model1.csv\", schema=ParkingSchema, input_rate=1000)\n"
      ],
      "metadata": {
        "id": "rnxwEoLfnUw2"
      },
      "execution_count": null,
      "outputs": []
    },
    {
      "cell_type": "code",
      "source": [
        "#5. Time Processing\n",
        "fmt = \"%Y-%m-%d %H:%M:%S\"\n",
        "\n",
        "data_with_time = data.with_columns(\n",
        "    t = data.Timestamp.dt.strptime(fmt),\n",
        "    day = data.Timestamp.dt.strptime(fmt).dt.strftime(\"%Y-%m-%dT00:00:00\")\n",
        ")\n"
      ],
      "metadata": {
        "id": "Ge4OE072nXw8"
      },
      "execution_count": null,
      "outputs": []
    },
    {
      "cell_type": "code",
      "source": [
        "#6. Define Price Calculation\n",
        "import datetime\n",
        "\n",
        "# Daily tumbling window pricing\n",
        "delta_window_model1 = (\n",
        "    data_with_time.windowby(\n",
        "        pw.this.t,\n",
        "        instance=pw.this.day,\n",
        "        window=pw.temporal.tumbling(datetime.timedelta(days=1)),\n",
        "        behavior=pw.temporal.exactly_once_behavior()\n",
        "    )\n",
        "    .reduce(\n",
        "        t=pw.this._pw_window_end,\n",
        "        occ_max=pw.reducers.max(pw.this.Occupancy),\n",
        "        cap=pw.reducers.max(pw.this.Capacity)\n",
        "    )\n",
        "    .with_columns(\n",
        "        price = 10 + 5 * (pw.this.occ_max / pw.this.cap)\n",
        "    )\n",
        ")\n"
      ],
      "metadata": {
        "id": "5oApysm_nb5Y"
      },
      "execution_count": null,
      "outputs": []
    },
    {
      "cell_type": "code",
      "source": [
        "#7. Define Bokeh Visualizer\n",
        "def price_plotter(source):\n",
        "    fig = bokeh.plotting.figure(\n",
        "        height=400,\n",
        "        width=800,\n",
        "        title=\"Daily Parking Price (Model 1)\",\n",
        "        x_axis_type=\"datetime\"\n",
        "    )\n",
        "    fig.line(\"t\", \"price\", source=source, line_width=2, color=\"blue\")\n",
        "    fig.scatter(\"t\", \"price\", source=source, size=6, color=\"red\")  # Updated line\n",
        "    return fig\n"
      ],
      "metadata": {
        "id": "4fvAVFrdng-J"
      },
      "execution_count": null,
      "outputs": []
    },
    {
      "cell_type": "code",
      "source": [
        "#8. Serve Dashboard\n",
        "dashboard = pn.Column(viz)\n",
        "dashboard.servable()\n"
      ],
      "metadata": {
        "id": "Gu1czmaSnzgK"
      },
      "execution_count": null,
      "outputs": []
    },
    {
      "cell_type": "code",
      "source": [
        "#9. Run Pathway Pipeline (Real-time Simulation)\n",
        "%%capture --no-display\n",
        "pw.run()\n"
      ],
      "metadata": {
        "id": "VBvsVj3DoCVX"
      },
      "execution_count": null,
      "outputs": []
    },
    {
      "cell_type": "code",
      "source": [
        "import pandas as pd\n",
        "\n",
        "# Load your original dataset (replace with correct filename if needed)\n",
        "df = pd.read_csv(\"/content/dataset.csv\")  # Adjust path if file is elsewhere\n",
        "\n",
        "# Create the 'Timestamp' column\n",
        "df['Timestamp'] = pd.to_datetime(df['LastUpdatedDate'] + ' ' + df['LastUpdatedTime'],\n",
        "                                  format='%d-%m-%Y %H:%M:%S')\n",
        "\n",
        "# Rename ID as LotID for clarity\n",
        "df.rename(columns={'ID': 'LotID'}, inplace=True)\n",
        "\n",
        "# Select only required columns for Model 1\n",
        "df_stream = df[['LotID', 'Timestamp', 'Occupancy', 'Capacity']]\n",
        "\n",
        "# Save this to CSV for Pathway to stream\n",
        "df_stream.to_csv(\"parking_stream.csv\", index=False)\n",
        "\n",
        "# Optional: View sample\n",
        "print(df_stream.head())\n",
        "\n",
        "\n"
      ],
      "metadata": {
        "id": "KEUsNL7Ooacy"
      },
      "execution_count": null,
      "outputs": []
    },
    {
      "cell_type": "code",
      "source": [
        "import pandas as pd\n",
        "df = pd.read_csv(\"parking_stream.csv\")\n",
        "print(df.head())\n"
      ],
      "metadata": {
        "id": "ezuLS6uLo1mJ"
      },
      "execution_count": null,
      "outputs": []
    },
    {
      "cell_type": "code",
      "source": [
        "#Model 1 – Baseline Linear Model\n",
        "import pathway as pw\n",
        "import datetime\n",
        "import panel as pn\n",
        "import bokeh.plotting\n",
        "\n",
        "# Step 1: Define schema\n",
        "class ParkingSchema(pw.Schema):\n",
        "    LotID: str\n",
        "    Timestamp: str\n",
        "    Occupancy: int\n",
        "    Capacity: int\n",
        "\n",
        "# Step 2: Stream the data using Pathway\n",
        "data = pw.demo.replay_csv(\n",
        "    \"parking_stream.csv\",\n",
        "    schema=ParkingSchema,\n",
        "    input_rate=1000\n",
        ")\n",
        "\n",
        "# Step 3: Convert timestamp and add day column\n",
        "fmt = \"%Y-%m-%d %H:%M:%S\"\n",
        "data_with_time = data.with_columns(\n",
        "    t = data.Timestamp.dt.strptime(fmt),\n",
        "    day = data.Timestamp.dt.strptime(fmt).dt.strftime(\"%Y-%m-%dT00:00:00\")\n",
        ")\n",
        "\n",
        "# Step 4: Define daily tumbling window and compute price\n",
        "delta_window = (\n",
        "    data_with_time.windowby(\n",
        "        pw.this.t,\n",
        "        instance=pw.this.day,\n",
        "        window=pw.temporal.tumbling(datetime.timedelta(days=1)),\n",
        "        behavior=pw.temporal.exactly_once_behavior()\n",
        "    )\n",
        "    .reduce(\n",
        "        t = pw.this._pw_window_end,\n",
        "        occ_max = pw.reducers.max(pw.this.Occupancy),\n",
        "        occ_min = pw.reducers.min(pw.this.Occupancy),\n",
        "        cap = pw.reducers.max(pw.this.Capacity)\n",
        "    )\n",
        "    .with_columns(\n",
        "        price = 10 + (pw.this.occ_max - pw.this.occ_min) / pw.this.cap\n",
        "    )\n",
        ")\n",
        "\n",
        "# Step 5: Bokeh plotting function\n",
        "pn.extension()\n",
        "\n",
        "def price_plotter(source):\n",
        "    fig = bokeh.plotting.figure(\n",
        "        height=400,\n",
        "        width=800,\n",
        "        title=\"Model 1: Baseline Daily Parking Price\",\n",
        "        x_axis_type=\"datetime\",\n",
        "    )\n",
        "    fig.line(\"t\", \"price\", source=source, line_width=2, color=\"navy\")\n",
        "    fig.scatter(\"t\", \"price\", source=source, size=6, color=\"red\")\n",
        "    return fig\n",
        "\n",
        "viz = delta_window.plot(price_plotter, sorting_col=\"t\")\n",
        "\n",
        "# Step 6: Display the dashboard\n",
        "pn.Column(viz).servable()\n",
        "\n",
        "# Step 7: Run Pathway pipeline (in background)\n",
        "pw.run()\n",
        "\n"
      ],
      "metadata": {
        "id": "9YkzFDw_pCZo"
      },
      "execution_count": null,
      "outputs": []
    },
    {
      "cell_type": "code",
      "source": [
        "import pandas as pd\n",
        "\n",
        "# Load the cleaned dataset again (assuming you've already done preprocessing)\n",
        "df = pd.read_csv(\"/content/dataset.csv\")  # replace with your dataset path if different\n",
        "\n",
        "# Create Timestamp column\n",
        "df['Timestamp'] = pd.to_datetime(df['LastUpdatedDate'] + ' ' + df['LastUpdatedTime'],\n",
        "                                  format='%Y-%m-%d %H:%M:%S', errors='coerce')\n",
        "\n",
        "# Filter and save only necessary columns\n",
        "df_filtered = df[['SystemCodeNumber', 'Timestamp', 'Occupancy', 'Capacity']].dropna()\n",
        "df_filtered.columns = ['LotID', 'Timestamp', 'Occupancy', 'Capacity']  # rename for clarity\n",
        "\n",
        "# Save to CSV\n",
        "df_filtered.to_csv(\"parking_stream.csv\", index=False)\n",
        "\n",
        "print(\"✅ File 'parking_stream.csv' created successfully.\")\n",
        "print(df_filtered.head())\n"
      ],
      "metadata": {
        "id": "ocy6QQuTqFPB"
      },
      "execution_count": null,
      "outputs": []
    },
    {
      "cell_type": "code",
      "source": [
        "#fixing emptydataframe\n",
        "#Check the raw date and time columns\n",
        "df = pd.read_csv(\"/content/dataset.csv\")\n",
        "print(df[['LastUpdatedDate', 'LastUpdatedTime']].head(10))\n"
      ],
      "metadata": {
        "id": "U_VGBoUBrCX9"
      },
      "execution_count": null,
      "outputs": []
    },
    {
      "cell_type": "code",
      "source": [
        "#Parse Date and Time Properly\n",
        "# Combine LastUpdatedDate and LastUpdatedTime into one column\n",
        "df['Timestamp'] = pd.to_datetime(\n",
        "    df['LastUpdatedDate'].astype(str) + ' ' + df['LastUpdatedTime'].astype(str),\n",
        "    format='%d-%m-%Y %H:%M:%S',\n",
        "    errors='coerce'  # Converts invalid parsing to NaT\n",
        ")\n",
        "\n"
      ],
      "metadata": {
        "id": "RIwbEeASrf-V"
      },
      "execution_count": null,
      "outputs": []
    },
    {
      "cell_type": "code",
      "source": [
        "#2: Check the Results\n",
        "print(\"Total rows before filtering:\", len(df))\n",
        "print(\"Valid rows after Timestamp parsing:\", df['Timestamp'].notnull().sum())\n"
      ],
      "metadata": {
        "id": "pfZL6uSZrx5q"
      },
      "execution_count": null,
      "outputs": []
    },
    {
      "cell_type": "code",
      "source": [
        "# inspect what columns do exist in your current\n",
        "print(df.columns.tolist())\n"
      ],
      "metadata": {
        "id": "SBPoct_esNXN"
      },
      "execution_count": null,
      "outputs": []
    },
    {
      "cell_type": "code",
      "source": [
        "#3: Filter and Export the Relevant Columns\n",
        "# let’s extract the data you need for modeling (Occupancy, Capacity, Timestamp, LotID) and save it to a CSV:\n",
        "# Keep only required columns\n",
        "# Prepare data for streaming\n",
        "df_stream = df[['SystemCodeNumber', 'Timestamp', 'Occupancy', 'Capacity']].copy()\n",
        "df_stream.columns = ['LotID', 'Timestamp', 'Occupancy', 'Capacity']  # Rename for consistency\n",
        "\n",
        "# Sort by timestamp\n",
        "df_stream = df_stream.sort_values('Timestamp').reset_index(drop=True)\n",
        "\n",
        "# Save to CSV\n",
        "df_stream.to_csv(\"parking_stream.csv\", index=False)\n",
        "\n",
        "print(\"✅ File 'parking_stream.csv' created successfully.\")\n",
        "print(df_stream.head())\n"
      ],
      "metadata": {
        "id": "hvCtEz2Er-eC"
      },
      "execution_count": null,
      "outputs": []
    },
    {
      "cell_type": "code",
      "source": [
        "#Install & Import Required Libraries\n",
        "!pip install pathway bokeh panel --quiet\n"
      ],
      "metadata": {
        "id": "N9Q-TA3kstRV"
      },
      "execution_count": null,
      "outputs": []
    },
    {
      "cell_type": "code",
      "source": [
        "\n",
        "#Install & Import Required Libraries\n",
        "import pathway as pw\n",
        "import pandas as pd\n",
        "import datetime\n",
        "import panel as pn\n",
        "import bokeh.plotting\n"
      ],
      "metadata": {
        "id": "8Bod26zSsys4"
      },
      "execution_count": null,
      "outputs": []
    },
    {
      "cell_type": "code",
      "source": [
        "#Load the CSV as a Real-Time Stream in Pathway\n",
        "# Define schema\n",
        "class ParkingSchema(pw.Schema):\n",
        "    LotID: str\n",
        "    Timestamp: str\n",
        "    Occupancy: int\n",
        "    Capacity: int\n",
        "\n",
        "# Simulated stream\n",
        "stream = pw.demo.replay_csv(\n",
        "    \"parking_stream.csv\",\n",
        "    schema=ParkingSchema,\n",
        "    input_rate=1000\n",
        ")\n"
      ],
      "metadata": {
        "id": "KI7-jS5Fszop"
      },
      "execution_count": null,
      "outputs": []
    },
    {
      "cell_type": "code",
      "source": [
        "#Preprocessing & Time Conversion\n",
        "fmt = \"%Y-%m-%d %H:%M:%S\"\n",
        "\n",
        "stream_with_time = stream.with_columns(\n",
        "    t = stream.Timestamp.dt.strptime(fmt),\n",
        "    day = stream.Timestamp.dt.strptime(fmt).dt.strftime(\"%Y-%m-%dT00:00:00\")\n",
        ")\n"
      ],
      "metadata": {
        "id": "hPb8yev7s5dQ"
      },
      "execution_count": null,
      "outputs": []
    },
    {
      "cell_type": "code",
      "source": [
        "#Apply Baseline Linear Pricing Model\n",
        "import datetime\n",
        "\n",
        "# Define tumbling daily window\n",
        "delta_window = (\n",
        "    stream_with_time.windowby(\n",
        "        pw.this.t,\n",
        "        instance=pw.this.day,\n",
        "        window=pw.temporal.tumbling(datetime.timedelta(days=1)),\n",
        "        behavior=pw.temporal.exactly_once_behavior()\n",
        "    )\n",
        "    .reduce(\n",
        "        t = pw.this._pw_window_end,\n",
        "        occ_max = pw.reducers.max(pw.this.Occupancy),\n",
        "        occ_min = pw.reducers.min(pw.this.Occupancy),\n",
        "        cap = pw.reducers.max(pw.this.Capacity)\n",
        "    )\n",
        "    .with_columns(\n",
        "        price = 10 + (pw.this.occ_max - pw.this.occ_min) / pw.this.cap\n",
        "    )\n",
        ")\n"
      ],
      "metadata": {
        "id": "oF0Y4vJcs8ke"
      },
      "execution_count": null,
      "outputs": []
    },
    {
      "cell_type": "code",
      "source": [
        "#Plot Daily Price Updates\n",
        "pn.extension()\n",
        "\n",
        "def price_plotter(source):\n",
        "    fig = bokeh.plotting.figure(\n",
        "        height=400,\n",
        "        width=800,\n",
        "        title=\"Model 1: Daily Dynamic Parking Price\",\n",
        "        x_axis_type=\"datetime\"\n",
        "    )\n",
        "    fig.line(\"t\", \"price\", source=source, line_width=2, color=\"navy\")\n",
        "    fig.scatter(\"t\", \"price\", source=source, size=6, color=\"red\")\n",
        "    return fig\n",
        "\n",
        "viz = delta_window.plot(price_plotter, sorting_col=\"t\")\n",
        "pn.Column(viz).servable()\n"
      ],
      "metadata": {
        "id": "eSMeJH2fs_UY"
      },
      "execution_count": null,
      "outputs": []
    },
    {
      "cell_type": "code",
      "source": [
        "# Run the Stream\n",
        "%%capture --no-display\n",
        "pw.run()\n"
      ],
      "metadata": {
        "id": "VmYObsnitCgd"
      },
      "execution_count": null,
      "outputs": []
    },
    {
      "cell_type": "markdown",
      "source": [
        "MODEL 2 :-"
      ],
      "metadata": {
        "id": "anpeKiLWqFtF"
      }
    },
    {
      "cell_type": "code",
      "source": [
        "print(df.columns)\n"
      ],
      "metadata": {
        "id": "bl7_Me3UtVn_"
      },
      "execution_count": null,
      "outputs": []
    },
    {
      "cell_type": "code",
      "source": [
        "#Filling Missing Values:\n",
        "# Fill missing traffic values with 0 (or use .mean() instead if preferred)\n",
        "df['TrafficConditionNearby'] = df['TrafficConditionNearby'].fillna(0)\n"
      ],
      "metadata": {
        "id": "KVDrz-EHuzHU"
      },
      "execution_count": null,
      "outputs": []
    },
    {
      "cell_type": "code",
      "source": [
        "#build Model 2 pricing function.\n",
        "import pandas as pd\n",
        "import numpy as np\n",
        "\n",
        "# Reload or ensure df is clean\n",
        "df['Occupancy'] = pd.to_numeric(df['Occupancy'], errors='coerce')\n",
        "df['Capacity'] = pd.to_numeric(df['Capacity'], errors='coerce')\n",
        "df['QueueLength'] = pd.to_numeric(df['QueueLength'], errors='coerce')\n",
        "df['TrafficConditionNearby'] = pd.to_numeric(df['TrafficConditionNearby'], errors='coerce')\n",
        "df['IsSpecialDay'] = pd.to_numeric(df['IsSpecialDay'], errors='coerce')\n",
        "\n",
        "# Encode VehicleType\n",
        "vehicle_type_weights = {\n",
        "    'Car': 1.0,\n",
        "    'Bike': 0.5,\n",
        "    'Truck': 1.5\n",
        "}\n",
        "df['VehicleWeight'] = df['VehicleType'].map(vehicle_type_weights).fillna(1.0)\n",
        "\n",
        "# Normalize demand calculation\n",
        "df['Demand'] = (\n",
        "    0.3 * (df['Occupancy'] / df['Capacity']) +\n",
        "    0.2 * df['QueueLength'] +\n",
        "    -0.1 * df['TrafficConditionNearby'] +\n",
        "    0.2 * df['IsSpecialDay'] +\n",
        "    0.2 * df['VehicleWeight']\n",
        ")\n",
        "\n",
        "# Normalize demand between 0 and 1\n",
        "df['NormDemand'] = (df['Demand'] - df['Demand'].min()) / (df['Demand'].max() - df['Demand'].min())\n",
        "\n",
        "# Set pricing\n",
        "base_price = 10\n",
        "lambda_ = 0.8  # weight of demand on price\n",
        "df['DynamicPrice'] = base_price * (1 + lambda_ * df['NormDemand'])\n",
        "\n",
        "# Final preview\n",
        "df[['Timestamp', 'Occupancy', 'Capacity', 'QueueLength', 'TrafficConditionNearby', 'IsSpecialDay', 'VehicleType', 'NormDemand', 'DynamicPrice']].head()\n"
      ],
      "metadata": {
        "id": "QuqdPyRDulmP"
      },
      "execution_count": null,
      "outputs": []
    },
    {
      "cell_type": "code",
      "source": [
        "print(df[['Timestamp', 'Occupancy', 'Capacity', 'QueueLength', 'TrafficConditionNearby', 'IsSpecialDay', 'VehicleType', 'NormDemand', 'DynamicPrice']].head(10))\n"
      ],
      "metadata": {
        "id": "_bWeHaXfulj_"
      },
      "execution_count": null,
      "outputs": []
    },
    {
      "cell_type": "code",
      "source": [
        "#Step-by-Step Code to Plot Time vs Dynamic Price {using matplotlib}\n",
        "import matplotlib.pyplot as plt\n",
        "import matplotlib.dates as mdates\n",
        "\n",
        "# Ensure Timestamp is in datetime format\n",
        "df['Timestamp'] = pd.to_datetime(df['Timestamp'])\n",
        "\n",
        "# Set the Timestamp as the index (optional but helps with plotting)\n",
        "df.set_index('Timestamp', inplace=True)\n",
        "\n",
        "# Plot\n",
        "plt.figure(figsize=(12, 6))\n",
        "plt.plot(df.index, df['DynamicPrice'], marker='o', linestyle='-', color='blue', label='Dynamic Price')\n",
        "\n",
        "# Formatting the date on x-axis\n",
        "plt.gca().xaxis.set_major_formatter(mdates.DateFormatter('%H:%M'))\n",
        "plt.gca().xaxis.set_major_locator(mdates.HourLocator(interval=1))\n",
        "plt.xticks(rotation=45)\n",
        "\n",
        "plt.title('Dynamic Parking Price Over Time', fontsize=14)\n",
        "plt.xlabel('Time of Day')\n",
        "plt.ylabel('Price ($)')\n",
        "plt.grid(True)\n",
        "plt.legend()\n",
        "plt.tight_layout()\n",
        "plt.show()\n"
      ],
      "metadata": {
        "id": "Af36oRrIulfH"
      },
      "execution_count": null,
      "outputs": []
    },
    {
      "cell_type": "code",
      "source": [
        "df.columns = df.columns.str.strip()  # removes extra spaces\n"
      ],
      "metadata": {
        "id": "VF48mDgYwP5_"
      },
      "execution_count": null,
      "outputs": []
    },
    {
      "cell_type": "code",
      "source": [
        "#Step-by-Step Code to Plot Time vs Dynamic Price {using bokeh} - interactive\n",
        "print(df.columns.tolist())\n",
        "\n"
      ],
      "metadata": {
        "id": "mBMpYaTQvYoq"
      },
      "execution_count": null,
      "outputs": []
    },
    {
      "cell_type": "code",
      "source": [
        "#Create Timestamp column\n",
        "df['Timestamp'] = pd.to_datetime(df['LastUpdatedDate'] + ' ' + df['LastUpdatedTime'], format='%d-%m-%Y %H:%M:%S')\n"
      ],
      "metadata": {
        "id": "m08ZAqntwa8z"
      },
      "execution_count": null,
      "outputs": []
    },
    {
      "cell_type": "code",
      "source": [
        "# Remove duplicate columns (keep the first occurrence)\n",
        "df = df.loc[:, ~df.columns.duplicated()]\n"
      ],
      "metadata": {
        "id": "eB3yzovAwvqW"
      },
      "execution_count": null,
      "outputs": []
    },
    {
      "cell_type": "code",
      "source": [
        "print(df.columns[df.columns.duplicated()])\n"
      ],
      "metadata": {
        "id": "mNMzFXAfwdy4"
      },
      "execution_count": null,
      "outputs": []
    },
    {
      "cell_type": "code",
      "metadata": {
        "id": "KRyunoHhwyGz"
      },
      "source": [
        "##Step-by-Step Code to Plot Time vs Dynamic Price {using bokeh} - interactive\n",
        "from bokeh.plotting import figure, show, output_notebook\n",
        "from bokeh.models import ColumnDataSource\n",
        "from bokeh.layouts import column\n",
        "\n",
        "output_notebook()\n",
        "\n",
        "# Create ColumnDataSource from dataframe, ignoring the index\n",
        "source = ColumnDataSource(df.drop(columns=['Timestamp']).reset_index())\n",
        "\n",
        "\n",
        "p = figure(\n",
        "    x_axis_type='datetime',\n",
        "    title='Dynamic Parking Price Over Time',\n",
        "    height=400,\n",
        "    width=800\n",
        ")\n",
        "\n",
        "p.line(x='Timestamp', y='DynamicPrice', source=source, line_width=2, color='navy')\n",
        "p.circle(x='Timestamp', y='DynamicPrice', source=source, size=6, color='red')\n",
        "\n",
        "p.xaxis.axis_label = 'Time'\n",
        "p.yaxis.axis_label = 'Price ($)'\n",
        "from bokeh.models import HoverTool\n",
        "\n",
        "hover = HoverTool(\n",
        "    tooltips=[\n",
        "        (\"Time\", \"@Timestamp{%F %T}\"),\n",
        "        (\"Price\", \"@DynamicPrice{$0.00}\"),\n",
        "        (\"Occupancy\", \"@Occupancy\"),\n",
        "        (\"Capacity\", \"@Capacity\"),\n",
        "        (\"Vehicle Type\", \"@VehicleType\")\n",
        "    ],\n",
        "    formatters={\"@Timestamp\": \"datetime\"},\n",
        "    mode='vline'\n",
        ")\n",
        "p.add_tools(hover)\n",
        "\n",
        "show(column(p))"
      ],
      "execution_count": null,
      "outputs": []
    },
    {
      "cell_type": "code",
      "source": [
        "df.to_csv(\"Model2_Pricing_Output.csv\", index=False)\n",
        "print(\"✅ CSV Exported\")\n"
      ],
      "metadata": {
        "id": "0qzuWCgdxbsT"
      },
      "execution_count": null,
      "outputs": []
    },
    {
      "cell_type": "code",
      "source": [],
      "metadata": {
        "id": "YKsXs-_MzRMj"
      },
      "execution_count": null,
      "outputs": []
    }
  ]
}